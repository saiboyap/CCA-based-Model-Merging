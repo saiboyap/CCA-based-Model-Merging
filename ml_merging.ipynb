{
  "nbformat": 4,
  "nbformat_minor": 0,
  "metadata": {
    "colab": {
      "provenance": []
    },
    "kernelspec": {
      "name": "python3",
      "display_name": "Python 3"
    },
    "language_info": {
      "name": "python"
    }
  },
  "cells": [
    {
      "cell_type": "code",
      "execution_count": 42,
      "metadata": {
        "colab": {
          "base_uri": "https://localhost:8080/"
        },
        "id": "ChJ_aArZpfGA",
        "outputId": "29eca4ee-4604-4559-f8c9-19efd18c358c"
      },
      "outputs": [
        {
          "output_type": "stream",
          "name": "stdout",
          "text": [
            "Requirement already satisfied: torch in /usr/local/lib/python3.10/dist-packages (2.5.1+cu121)\n",
            "Requirement already satisfied: torchvision in /usr/local/lib/python3.10/dist-packages (0.20.1+cu121)\n",
            "Requirement already satisfied: numpy in /usr/local/lib/python3.10/dist-packages (1.26.4)\n",
            "Requirement already satisfied: matplotlib in /usr/local/lib/python3.10/dist-packages (3.8.0)\n",
            "Requirement already satisfied: scikit-learn in /usr/local/lib/python3.10/dist-packages (1.5.2)\n",
            "Requirement already satisfied: filelock in /usr/local/lib/python3.10/dist-packages (from torch) (3.16.1)\n",
            "Requirement already satisfied: typing-extensions>=4.8.0 in /usr/local/lib/python3.10/dist-packages (from torch) (4.12.2)\n",
            "Requirement already satisfied: networkx in /usr/local/lib/python3.10/dist-packages (from torch) (3.4.2)\n",
            "Requirement already satisfied: jinja2 in /usr/local/lib/python3.10/dist-packages (from torch) (3.1.4)\n",
            "Requirement already satisfied: fsspec in /usr/local/lib/python3.10/dist-packages (from torch) (2024.10.0)\n",
            "Requirement already satisfied: sympy==1.13.1 in /usr/local/lib/python3.10/dist-packages (from torch) (1.13.1)\n",
            "Requirement already satisfied: mpmath<1.4,>=1.1.0 in /usr/local/lib/python3.10/dist-packages (from sympy==1.13.1->torch) (1.3.0)\n",
            "Requirement already satisfied: pillow!=8.3.*,>=5.3.0 in /usr/local/lib/python3.10/dist-packages (from torchvision) (11.0.0)\n",
            "Requirement already satisfied: contourpy>=1.0.1 in /usr/local/lib/python3.10/dist-packages (from matplotlib) (1.3.1)\n",
            "Requirement already satisfied: cycler>=0.10 in /usr/local/lib/python3.10/dist-packages (from matplotlib) (0.12.1)\n",
            "Requirement already satisfied: fonttools>=4.22.0 in /usr/local/lib/python3.10/dist-packages (from matplotlib) (4.55.0)\n",
            "Requirement already satisfied: kiwisolver>=1.0.1 in /usr/local/lib/python3.10/dist-packages (from matplotlib) (1.4.7)\n",
            "Requirement already satisfied: packaging>=20.0 in /usr/local/lib/python3.10/dist-packages (from matplotlib) (24.2)\n",
            "Requirement already satisfied: pyparsing>=2.3.1 in /usr/local/lib/python3.10/dist-packages (from matplotlib) (3.2.0)\n",
            "Requirement already satisfied: python-dateutil>=2.7 in /usr/local/lib/python3.10/dist-packages (from matplotlib) (2.8.2)\n",
            "Requirement already satisfied: scipy>=1.6.0 in /usr/local/lib/python3.10/dist-packages (from scikit-learn) (1.13.1)\n",
            "Requirement already satisfied: joblib>=1.2.0 in /usr/local/lib/python3.10/dist-packages (from scikit-learn) (1.4.2)\n",
            "Requirement already satisfied: threadpoolctl>=3.1.0 in /usr/local/lib/python3.10/dist-packages (from scikit-learn) (3.5.0)\n",
            "Requirement already satisfied: six>=1.5 in /usr/local/lib/python3.10/dist-packages (from python-dateutil>=2.7->matplotlib) (1.16.0)\n",
            "Requirement already satisfied: MarkupSafe>=2.0 in /usr/local/lib/python3.10/dist-packages (from jinja2->torch) (3.0.2)\n"
          ]
        }
      ],
      "source": [
        "!pip install torch torchvision numpy matplotlib scikit-learn\n"
      ]
    },
    {
      "cell_type": "code",
      "source": [
        "import torch\n",
        "import torch.nn as nn\n",
        "import torchvision\n",
        "import torchvision.transforms as transforms\n",
        "\n",
        "# CIFAR DataLoaders\n",
        "def get_dataloader(dataset='CIFAR10', batch_size=64):\n",
        "    transform = transforms.Compose([\n",
        "        transforms.ToTensor(),\n",
        "        transforms.Normalize((0.5, 0.5, 0.5), (0.5, 0.5, 0.5))\n",
        "    ])\n",
        "    if dataset == 'CIFAR10':\n",
        "        trainset = torchvision.datasets.CIFAR10(root='./data', train=True, download=True, transform=transform)\n",
        "        testset = torchvision.datasets.CIFAR10(root='./data', train=False, download=True, transform=transform)\n",
        "    elif dataset == 'CIFAR100':\n",
        "        trainset = torchvision.datasets.CIFAR100(root='./data', train=True, download=True, transform=transform)\n",
        "        testset = torchvision.datasets.CIFAR100(root='./data', train=False, download=True, transform=transform)\n",
        "    trainloader = torch.utils.data.DataLoader(trainset, batch_size=batch_size, shuffle=True)\n",
        "    testloader = torch.utils.data.DataLoader(testset, batch_size=batch_size, shuffle=False)\n",
        "    return trainloader, testloader\n",
        "\n",
        "# Load CIFAR10 and CIFAR100\n",
        "trainloader_cifar10, testloader_cifar10 = get_dataloader('CIFAR10')\n",
        "trainloader_cifar100, testloader_cifar100 = get_dataloader('CIFAR100')\n"
      ],
      "metadata": {
        "colab": {
          "base_uri": "https://localhost:8080/"
        },
        "id": "xXNfRVcjqmop",
        "outputId": "cd6cc201-7c6b-4bab-c638-2004772210f5"
      },
      "execution_count": 43,
      "outputs": [
        {
          "output_type": "stream",
          "name": "stdout",
          "text": [
            "Files already downloaded and verified\n",
            "Files already downloaded and verified\n",
            "Files already downloaded and verified\n",
            "Files already downloaded and verified\n"
          ]
        }
      ]
    },
    {
      "cell_type": "code",
      "source": [
        "from torchvision.models import vgg11, resnet18\n",
        "\n",
        "# Create VGG11 and ResNet20 Models\n",
        "def create_model(model_type='vgg11', num_classes=10):\n",
        "    if model_type == 'vgg11':\n",
        "        return vgg11(num_classes=num_classes)\n",
        "    elif model_type == 'resnet18':\n",
        "        return resnet18(num_classes=num_classes)\n",
        "    else:\n",
        "        raise ValueError(\"Invalid model type\")\n",
        "\n",
        "# Initialize Models\n",
        "vgg11_x1 = create_model('vgg11', num_classes=10)\n",
        "vgg11_x8 = create_model('vgg11', num_classes=10)\n",
        "resnet20_x1 = create_model('resnet18', num_classes=100)\n",
        "resnet20_x8 = create_model('resnet18', num_classes=100)\n"
      ],
      "metadata": {
        "id": "GAa_VSf-qqFI"
      },
      "execution_count": 44,
      "outputs": []
    },
    {
      "cell_type": "code",
      "source": [
        "def direct_average(model1, model2):\n",
        "    avg_model = create_model('vgg11', num_classes=10)\n",
        "    avg_state_dict = {k: (model1.state_dict()[k] + model2.state_dict()[k]) / 2 for k in model1.state_dict()}\n",
        "    avg_model.load_state_dict(avg_state_dict)\n",
        "    return avg_model\n"
      ],
      "metadata": {
        "id": "JNuDO0-lquhR"
      },
      "execution_count": 45,
      "outputs": []
    },
    {
      "cell_type": "code",
      "source": [
        "def permute_weights(model1, model2, layer_name):\n",
        "    weight1 = model1.state_dict()[layer_name].cpu().numpy()\n",
        "    weight2 = model2.state_dict()[layer_name].cpu().numpy()\n",
        "    # Perform permutation logic (e.g., Hungarian algorithm)\n",
        "    # Placeholder for demonstration\n",
        "    permuted_weight2 = weight2  # Assume a permutation is applied\n",
        "    return (weight1 + permuted_weight2) / 2\n"
      ],
      "metadata": {
        "id": "fSW55Ft2q0bc"
      },
      "execution_count": 46,
      "outputs": []
    },
    {
      "cell_type": "code",
      "source": [
        "def ot_fusion(model1, model2, layer_name):\n",
        "    \"\"\"\n",
        "    Performs Optimal Transport (OT) Fusion on a specific layer.\n",
        "    Args:\n",
        "        model1: First model (reference model).\n",
        "        model2: Second model to align and merge.\n",
        "        layer_name: The name of the layer to align and merge.\n",
        "    Returns:\n",
        "        Merged weights as a PyTorch tensor.\n",
        "    \"\"\"\n",
        "    # Extract weights\n",
        "    weight1 = model1.state_dict()[layer_name].cpu().numpy()\n",
        "    weight2 = model2.state_dict()[layer_name].cpu().numpy()\n",
        "\n",
        "    # Check if weights are 4D (for convolutional layers)\n",
        "    if len(weight1.shape) != 4 or len(weight2.shape) != 4:\n",
        "        raise ValueError(\"Layer weights are not 4D. OT Fusion is designed for convolutional layers.\")\n",
        "\n",
        "    # Flatten weights into 2D (e.g., out_channels x (in_channels * kernel_size * kernel_size))\n",
        "    weight1_flat = weight1.reshape(weight1.shape[0], -1)\n",
        "    weight2_flat = weight2.reshape(weight2.shape[0], -1)\n",
        "\n",
        "    # Compute cost matrix (L2 distance)\n",
        "    cost_matrix = np.linalg.norm(weight1_flat[:, None, :] - weight2_flat[None, :, :], axis=-1)\n",
        "\n",
        "    # Perform optimal transport (Hungarian algorithm)\n",
        "    row_ind, col_ind = linear_sum_assignment(cost_matrix)\n",
        "\n",
        "    # Align weight2 based on the optimal transport mapping\n",
        "    aligned_weight2_flat = weight2_flat[col_ind]\n",
        "\n",
        "    # Merge weights by averaging\n",
        "    merged_weight_flat = (weight1_flat + aligned_weight2_flat) / 2\n",
        "\n",
        "    # Reshape merged weights back to original dimensions\n",
        "    merged_weight = merged_weight_flat.reshape(weight1.shape)\n",
        "\n",
        "    # Convert back to PyTorch tensor\n",
        "    return torch.tensor(merged_weight, dtype=torch.float32)\n"
      ],
      "metadata": {
        "id": "M4V86UnArDqK"
      },
      "execution_count": 47,
      "outputs": []
    },
    {
      "cell_type": "code",
      "source": [
        "def matching_weights(model1, model2, layer_name):\n",
        "    weight1 = model1.state_dict()[layer_name].cpu().numpy()\n",
        "    weight2 = model2.state_dict()[layer_name].cpu().numpy()\n",
        "    return (weight1 + weight2) / 2\n"
      ],
      "metadata": {
        "id": "BA9S8ZR4rHw7"
      },
      "execution_count": 48,
      "outputs": []
    },
    {
      "cell_type": "code",
      "source": [
        "from sklearn.cross_decomposition import CCA\n",
        "\n",
        "def cca_merge(model1, model2, layer_name):\n",
        "    weight1 = model1.state_dict()[layer_name].cpu().numpy()\n",
        "    weight2 = model2.state_dict()[layer_name].cpu().numpy()\n",
        "    weight1_flat = weight1.reshape(weight1.shape[0], -1)\n",
        "    weight2_flat = weight2.reshape(weight2.shape[0], -1)\n",
        "\n",
        "    cca = CCA(n_components=weight1_flat.shape[1])\n",
        "    weight1_aligned, weight2_aligned = cca.fit_transform(weight1_flat, weight2_flat)\n",
        "    merged_weights = (weight1_aligned + weight2_aligned) / 2\n",
        "    return torch.tensor(merged_weights).reshape(weight1.shape)\n"
      ],
      "metadata": {
        "id": "1n3kjO7btB3J"
      },
      "execution_count": 49,
      "outputs": []
    },
    {
      "cell_type": "code",
      "source": [
        "def evaluate_model(model, dataloader):\n",
        "    device = 'cuda' if torch.cuda.is_available() else 'cpu'\n",
        "    model = model.to(device)\n",
        "    model.eval()\n",
        "    correct, total = 0, 0\n",
        "    with torch.no_grad():\n",
        "        for inputs, labels in dataloader:\n",
        "            inputs, labels = inputs.to(device), labels.to(device)\n",
        "            outputs = model(inputs)\n",
        "            _, predicted = torch.max(outputs, 1)\n",
        "            total += labels.size(0)\n",
        "            correct += (predicted == labels).sum().item()\n",
        "    return 100 * correct / total\n"
      ],
      "metadata": {
        "id": "y-fujkKptZA_"
      },
      "execution_count": 50,
      "outputs": []
    },
    {
      "cell_type": "code",
      "source": [
        "# Perform OT Fusion\n",
        "ot_fusion_weights = ot_fusion(vgg11_x1, vgg11_x8, layer_name)\n",
        "\n",
        "# Ensure ot_fusion_weights is not None\n",
        "if ot_fusion_weights is None:\n",
        "    raise ValueError(\"OT Fusion did not return valid weights.\")\n",
        "\n",
        "# Apply the merged weights to the first model\n",
        "vgg11_x1.state_dict()[layer_name].copy_(ot_fusion_weights)\n",
        "\n",
        "# Set the model as the OT Fusion merged model\n",
        "ot_fusion_model = vgg11_x1  # Reuse vgg11_x1 for testing\n"
      ],
      "metadata": {
        "id": "-vsWv-uptbhV"
      },
      "execution_count": 51,
      "outputs": []
    },
    {
      "cell_type": "code",
      "source": [
        "# Define the layer name to merge\n",
        "layer_name = 'features.0.weight'\n",
        "\n",
        "# Perform merging for OT Fusion\n",
        "ot_fusion_weights = ot_fusion(vgg11_x1, vgg11_x8, layer_name)\n",
        "\n",
        "# Check and apply merged weights\n",
        "if ot_fusion_weights is not None:\n",
        "    vgg11_x1.state_dict()[layer_name].copy_(ot_fusion_weights)\n",
        "else:\n",
        "    raise ValueError(\"Merged weights are None.\")\n",
        "\n",
        "# Reuse vgg11_x1 as the merged model\n",
        "ot_fusion_model = vgg11_x1\n",
        "\n",
        "# Evaluate the OT Fusion merged model\n",
        "ot_fusion_accuracy = evaluate_model(ot_fusion_model, testloader_cifar10)\n",
        "\n",
        "# Print the results\n",
        "print(f\"OT Fusion Merged Model Accuracy: {ot_fusion_accuracy:.2f}%\")\n"
      ],
      "metadata": {
        "colab": {
          "base_uri": "https://localhost:8080/"
        },
        "id": "47adxTtiwn__",
        "outputId": "7ba2c06c-f010-4a97-e3ea-f021ab831c09"
      },
      "execution_count": 52,
      "outputs": [
        {
          "output_type": "stream",
          "name": "stdout",
          "text": [
            "OT Fusion Merged Model Accuracy: 10.98%\n"
          ]
        }
      ]
    },
    {
      "cell_type": "code",
      "source": [
        "# Dummy accuracy values for demonstration\n",
        "results = {\n",
        "    \"Direct Averaging\": 85.2,\n",
        "    \"OT Fusion\": 86.4,\n",
        "    \"Permute Weights\": 83.1,\n",
        "    \"CCA Merge\": 87.5,\n",
        "    \"Matching Weights\": 84.7,\n",
        "}\n",
        "\n",
        "# Plot the comparison\n",
        "methods = list(results.keys())\n",
        "accuracies = list(results.values())\n",
        "\n",
        "plt.bar(methods, accuracies)\n",
        "plt.xlabel('Merging Method')\n",
        "plt.ylabel('Accuracy (%)')\n",
        "plt.title('Comparison of Merging Methods')\n",
        "plt.xticks(rotation=45)\n",
        "plt.show()\n"
      ],
      "metadata": {
        "colab": {
          "base_uri": "https://localhost:8080/",
          "height": 555
        },
        "id": "SL0SyvQwtci9",
        "outputId": "d7be0924-799e-407d-d727-426458abf656"
      },
      "execution_count": 61,
      "outputs": [
        {
          "output_type": "display_data",
          "data": {
            "text/plain": [
              "<Figure size 640x480 with 1 Axes>"
            ],
            "image/png": "[encoded data removed]"
          },
          "metadata": {}
        }
      ]
    },
    {
      "cell_type": "code",
      "source": [],
      "metadata": {
        "id": "RkPObPP7tfdn"
      },
      "execution_count": null,
      "outputs": []
    }
  ]
}